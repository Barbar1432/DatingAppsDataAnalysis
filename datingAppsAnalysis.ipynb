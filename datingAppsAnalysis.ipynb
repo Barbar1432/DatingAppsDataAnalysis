{
 "cells": [
  {
   "cell_type": "code",
   "execution_count": 1,
   "metadata": {
    "scrolled": true
   },
   "outputs": [
    {
     "data": {
      "text/html": [
       "<div>\n",
       "<style scoped>\n",
       "    .dataframe tbody tr th:only-of-type {\n",
       "        vertical-align: middle;\n",
       "    }\n",
       "\n",
       "    .dataframe tbody tr th {\n",
       "        vertical-align: top;\n",
       "    }\n",
       "\n",
       "    .dataframe thead th {\n",
       "        text-align: right;\n",
       "    }\n",
       "</style>\n",
       "<table border=\"1\" class=\"dataframe\">\n",
       "  <thead>\n",
       "    <tr style=\"text-align: right;\">\n",
       "      <th></th>\n",
       "      <th>Name</th>\n",
       "      <th>Review</th>\n",
       "      <th>Rating</th>\n",
       "      <th>Date&amp;Time</th>\n",
       "      <th>App</th>\n",
       "    </tr>\n",
       "  </thead>\n",
       "  <tbody>\n",
       "    <tr>\n",
       "      <th>0</th>\n",
       "      <td>linah sibanda</td>\n",
       "      <td>On this app i cant find a partner</td>\n",
       "      <td>5</td>\n",
       "      <td>18-02-2022 01:19</td>\n",
       "      <td>Tinder</td>\n",
       "    </tr>\n",
       "    <tr>\n",
       "      <th>1</th>\n",
       "      <td>Norman Johnson</td>\n",
       "      <td>Tinder would be so much better if we could spe...</td>\n",
       "      <td>3</td>\n",
       "      <td>18-02-2022 01:16</td>\n",
       "      <td>Tinder</td>\n",
       "    </tr>\n",
       "    <tr>\n",
       "      <th>2</th>\n",
       "      <td>David Hume</td>\n",
       "      <td>Still doesn't correctly notify matches or mess...</td>\n",
       "      <td>1</td>\n",
       "      <td>18-02-2022 01:11</td>\n",
       "      <td>Tinder</td>\n",
       "    </tr>\n",
       "    <tr>\n",
       "      <th>3</th>\n",
       "      <td>Last 1 Standing</td>\n",
       "      <td>Got banned because I updated my bio to say \"I ...</td>\n",
       "      <td>2</td>\n",
       "      <td>18-02-2022 01:11</td>\n",
       "      <td>Tinder</td>\n",
       "    </tr>\n",
       "    <tr>\n",
       "      <th>4</th>\n",
       "      <td>Arthur Magamedov</td>\n",
       "      <td>Love it!</td>\n",
       "      <td>5</td>\n",
       "      <td>18-02-2022 01:06</td>\n",
       "      <td>Tinder</td>\n",
       "    </tr>\n",
       "  </tbody>\n",
       "</table>\n",
       "</div>"
      ],
      "text/plain": [
       "               Name                                             Review  \\\n",
       "0     linah sibanda                  On this app i cant find a partner   \n",
       "1    Norman Johnson  Tinder would be so much better if we could spe...   \n",
       "2        David Hume  Still doesn't correctly notify matches or mess...   \n",
       "3   Last 1 Standing  Got banned because I updated my bio to say \"I ...   \n",
       "4  Arthur Magamedov                                           Love it!   \n",
       "\n",
       "   Rating         Date&Time     App  \n",
       "0       5  18-02-2022 01:19  Tinder  \n",
       "1       3  18-02-2022 01:16  Tinder  \n",
       "2       1  18-02-2022 01:11  Tinder  \n",
       "3       2  18-02-2022 01:11  Tinder  \n",
       "4       5  18-02-2022 01:06  Tinder  "
      ]
     },
     "execution_count": 1,
     "metadata": {},
     "output_type": "execute_result"
    }
   ],
   "source": [
    "import numpy as np\n",
    "import pandas as pd\n",
    "import gender_guesser.detector as gd\n",
    "import matplotlib.pyplot as plt\n",
    "\n",
    "\n",
    "Dataframe = pd.read_csv(\"DatingAppReviewsDataset.csv\")\n",
    "Dataframe.drop(\"#ThumbsUp\"  ,axis=1, inplace =True) # get rid of this column bc not needed\n",
    "Dataframe.drop(\"Unnamed: 0\" ,axis=1, inplace =True) # get rid of this column bc not needed\n",
    "df_tinder =Dataframe[Dataframe[\"App\"]== \"Tinder\"] \n",
    "df_tinder.head()\n"
   ]
  },
  {
   "cell_type": "markdown",
   "metadata": {},
   "source": [
    "#### add a new column for Year"
   ]
  },
  {
   "cell_type": "code",
   "execution_count": 2,
   "metadata": {
    "scrolled": true
   },
   "outputs": [
    {
     "data": {
      "text/html": [
       "<div>\n",
       "<style scoped>\n",
       "    .dataframe tbody tr th:only-of-type {\n",
       "        vertical-align: middle;\n",
       "    }\n",
       "\n",
       "    .dataframe tbody tr th {\n",
       "        vertical-align: top;\n",
       "    }\n",
       "\n",
       "    .dataframe thead th {\n",
       "        text-align: right;\n",
       "    }\n",
       "</style>\n",
       "<table border=\"1\" class=\"dataframe\">\n",
       "  <thead>\n",
       "    <tr style=\"text-align: right;\">\n",
       "      <th></th>\n",
       "      <th>Name</th>\n",
       "      <th>Review</th>\n",
       "      <th>Rating</th>\n",
       "      <th>Date&amp;Time</th>\n",
       "      <th>App</th>\n",
       "      <th>Year</th>\n",
       "    </tr>\n",
       "  </thead>\n",
       "  <tbody>\n",
       "    <tr>\n",
       "      <th>0</th>\n",
       "      <td>linah sibanda</td>\n",
       "      <td>On this app i cant find a partner</td>\n",
       "      <td>5</td>\n",
       "      <td>18-02-2022 01:19</td>\n",
       "      <td>Tinder</td>\n",
       "      <td>2022</td>\n",
       "    </tr>\n",
       "    <tr>\n",
       "      <th>1</th>\n",
       "      <td>Norman Johnson</td>\n",
       "      <td>Tinder would be so much better if we could spe...</td>\n",
       "      <td>3</td>\n",
       "      <td>18-02-2022 01:16</td>\n",
       "      <td>Tinder</td>\n",
       "      <td>2022</td>\n",
       "    </tr>\n",
       "    <tr>\n",
       "      <th>2</th>\n",
       "      <td>David Hume</td>\n",
       "      <td>Still doesn't correctly notify matches or mess...</td>\n",
       "      <td>1</td>\n",
       "      <td>18-02-2022 01:11</td>\n",
       "      <td>Tinder</td>\n",
       "      <td>2022</td>\n",
       "    </tr>\n",
       "    <tr>\n",
       "      <th>3</th>\n",
       "      <td>Last 1 Standing</td>\n",
       "      <td>Got banned because I updated my bio to say \"I ...</td>\n",
       "      <td>2</td>\n",
       "      <td>18-02-2022 01:11</td>\n",
       "      <td>Tinder</td>\n",
       "      <td>2022</td>\n",
       "    </tr>\n",
       "    <tr>\n",
       "      <th>4</th>\n",
       "      <td>Arthur Magamedov</td>\n",
       "      <td>Love it!</td>\n",
       "      <td>5</td>\n",
       "      <td>18-02-2022 01:06</td>\n",
       "      <td>Tinder</td>\n",
       "      <td>2022</td>\n",
       "    </tr>\n",
       "  </tbody>\n",
       "</table>\n",
       "</div>"
      ],
      "text/plain": [
       "               Name                                             Review  \\\n",
       "0     linah sibanda                  On this app i cant find a partner   \n",
       "1    Norman Johnson  Tinder would be so much better if we could spe...   \n",
       "2        David Hume  Still doesn't correctly notify matches or mess...   \n",
       "3   Last 1 Standing  Got banned because I updated my bio to say \"I ...   \n",
       "4  Arthur Magamedov                                           Love it!   \n",
       "\n",
       "   Rating         Date&Time     App  Year  \n",
       "0       5  18-02-2022 01:19  Tinder  2022  \n",
       "1       3  18-02-2022 01:16  Tinder  2022  \n",
       "2       1  18-02-2022 01:11  Tinder  2022  \n",
       "3       2  18-02-2022 01:11  Tinder  2022  \n",
       "4       5  18-02-2022 01:06  Tinder  2022  "
      ]
     },
     "execution_count": 2,
     "metadata": {},
     "output_type": "execute_result"
    }
   ],
   "source": [
    "tempDate = df_tinder['Date&Time']\n",
    "Year=tempDate.str[6:10]\n",
    "df_tinder = df_tinder.assign(Year = Year)\n",
    "df_tinder.head()"
   ]
  },
  {
   "cell_type": "markdown",
   "metadata": {},
   "source": [
    "##### Find out the average rating "
   ]
  },
  {
   "cell_type": "code",
   "execution_count": 3,
   "metadata": {},
   "outputs": [
    {
     "data": {
      "text/plain": [
       "3.0107592629164324"
      ]
     },
     "execution_count": 3,
     "metadata": {},
     "output_type": "execute_result"
    }
   ],
   "source": [
    "df_tinder['Rating'].mean()"
   ]
  },
  {
   "cell_type": "markdown",
   "metadata": {},
   "source": [
    "#### Compare the average rating before and after the start of Corona Pandemic"
   ]
  },
  {
   "cell_type": "code",
   "execution_count": 4,
   "metadata": {},
   "outputs": [
    {
     "name": "stdout",
     "output_type": "stream",
     "text": [
      "Rating before Pandemic:3.106673774595298\n",
      "Rating after Pandemic:2.5304246596866116\n"
     ]
    }
   ],
   "source": [
    "df_tinder['Year'] = df_tinder[['Year']].apply(pd.to_numeric)\n",
    "df_temp =df_tinder[df_tinder[\"Year\"]<=2020 ]\n",
    "before=df_temp['Rating'].mean()\n",
    "print('Rating before Pandemic:'+str(before))\n",
    "df_temp =df_tinder[df_tinder[\"Year\"]>=2020 ]\n",
    "after=df_temp['Rating'].mean()\n",
    "print('Rating after Pandemic:'+str(after))\n",
    "\n",
    "    "
   ]
  },
  {
   "cell_type": "code",
   "execution_count": null,
   "metadata": {},
   "outputs": [],
   "source": [
    "# Find out the distribution of downloads (comments) over years \n"
   ]
  },
  {
   "cell_type": "code",
   "execution_count": 5,
   "metadata": {},
   "outputs": [
    {
     "name": "stdout",
     "output_type": "stream",
     "text": [
      "in 2022 8202 people have commented\n",
      "in 2021 62583 people have commented\n",
      "in 2020 69230 people have commented\n",
      "in 2019 87438 people have commented\n",
      "in 2018 69639 people have commented\n",
      "in 2017 64409 people have commented\n",
      "in 2016 62004 people have commented\n",
      "in 2015 57797 people have commented\n",
      "in 2014 37151 people have commented\n",
      "in 2013 8158 people have commented\n"
     ]
    }
   ],
   "source": [
    "uniqueValues = df_tinder['Year'].unique()\n",
    "for value in uniqueValues:\n",
    " count= df_tinder[df_tinder['Year'] ==value]['Name'].count()\n",
    " print('in '+str(value )+' '+str( count) +' people have commented')"
   ]
  },
  {
   "cell_type": "code",
   "execution_count": null,
   "metadata": {},
   "outputs": [],
   "source": [
    " "
   ]
  },
  {
   "cell_type": "code",
   "execution_count": 6,
   "metadata": {},
   "outputs": [
    {
     "name": "stdout",
     "output_type": "stream",
     "text": [
      "2099\n"
     ]
    }
   ],
   "source": [
    "df_temp =df_tinder[df_tinder[\"Year\"]==2022 ]\n",
    "count= df_temp[df_temp['Rating'] == 5 ]['Name'].count()\n",
    "print(count)"
   ]
  },
  {
   "cell_type": "markdown",
   "metadata": {},
   "source": [
    "# create new dataframe for Bumble from the given dataSet & add Column for Year  "
   ]
  },
  {
   "cell_type": "code",
   "execution_count": 7,
   "metadata": {
    "scrolled": true
   },
   "outputs": [
    {
     "data": {
      "text/html": [
       "<div>\n",
       "<style scoped>\n",
       "    .dataframe tbody tr th:only-of-type {\n",
       "        vertical-align: middle;\n",
       "    }\n",
       "\n",
       "    .dataframe tbody tr th {\n",
       "        vertical-align: top;\n",
       "    }\n",
       "\n",
       "    .dataframe thead th {\n",
       "        text-align: right;\n",
       "    }\n",
       "</style>\n",
       "<table border=\"1\" class=\"dataframe\">\n",
       "  <thead>\n",
       "    <tr style=\"text-align: right;\">\n",
       "      <th></th>\n",
       "      <th>Name</th>\n",
       "      <th>Review</th>\n",
       "      <th>Rating</th>\n",
       "      <th>Date&amp;Time</th>\n",
       "      <th>App</th>\n",
       "      <th>Year</th>\n",
       "    </tr>\n",
       "  </thead>\n",
       "  <tbody>\n",
       "    <tr>\n",
       "      <th>526616</th>\n",
       "      <td>mihai matei</td>\n",
       "      <td>Dacă nu ar cere mereu bani pentru orice like, ...</td>\n",
       "      <td>4</td>\n",
       "      <td>18-02-2022 00:58</td>\n",
       "      <td>Bumble</td>\n",
       "      <td>2022</td>\n",
       "    </tr>\n",
       "    <tr>\n",
       "      <th>526617</th>\n",
       "      <td>Khy McCabe</td>\n",
       "      <td>Can't seem to log into account, I've tried so ...</td>\n",
       "      <td>1</td>\n",
       "      <td>18-02-2022 00:53</td>\n",
       "      <td>Bumble</td>\n",
       "      <td>2022</td>\n",
       "    </tr>\n",
       "    <tr>\n",
       "      <th>526618</th>\n",
       "      <td>rob cif</td>\n",
       "      <td>Limited views without paying money. 90% fake a...</td>\n",
       "      <td>1</td>\n",
       "      <td>18-02-2022 00:53</td>\n",
       "      <td>Bumble</td>\n",
       "      <td>2022</td>\n",
       "    </tr>\n",
       "    <tr>\n",
       "      <th>526619</th>\n",
       "      <td>abhishek bhatia</td>\n",
       "      <td>This is the most trusted but worst app. This a...</td>\n",
       "      <td>1</td>\n",
       "      <td>18-02-2022 00:25</td>\n",
       "      <td>Bumble</td>\n",
       "      <td>2022</td>\n",
       "    </tr>\n",
       "    <tr>\n",
       "      <th>526620</th>\n",
       "      <td>Anthony Chidozie</td>\n",
       "      <td>Pretty good so far</td>\n",
       "      <td>5</td>\n",
       "      <td>18-02-2022 00:10</td>\n",
       "      <td>Bumble</td>\n",
       "      <td>2022</td>\n",
       "    </tr>\n",
       "  </tbody>\n",
       "</table>\n",
       "</div>"
      ],
      "text/plain": [
       "                    Name                                             Review  \\\n",
       "526616       mihai matei  Dacă nu ar cere mereu bani pentru orice like, ...   \n",
       "526617        Khy McCabe  Can't seem to log into account, I've tried so ...   \n",
       "526618           rob cif  Limited views without paying money. 90% fake a...   \n",
       "526619   abhishek bhatia  This is the most trusted but worst app. This a...   \n",
       "526620  Anthony Chidozie                                 Pretty good so far   \n",
       "\n",
       "        Rating         Date&Time     App  Year  \n",
       "526616       4  18-02-2022 00:58  Bumble  2022  \n",
       "526617       1  18-02-2022 00:53  Bumble  2022  \n",
       "526618       1  18-02-2022 00:53  Bumble  2022  \n",
       "526619       1  18-02-2022 00:25  Bumble  2022  \n",
       "526620       5  18-02-2022 00:10  Bumble  2022  "
      ]
     },
     "execution_count": 7,
     "metadata": {},
     "output_type": "execute_result"
    }
   ],
   "source": [
    "df_bumble =Dataframe[Dataframe[\"App\"]== \"Bumble\"]\n",
    "tempDate = df_bumble['Date&Time']\n",
    "Year=tempDate.str[6:10]\n",
    "df_bumble = df_bumble.assign(Year = Year)\n",
    "df_bumble.head()"
   ]
  },
  {
   "cell_type": "code",
   "execution_count": null,
   "metadata": {},
   "outputs": [],
   "source": [
    "# find out which year was Bumble published from the given data set "
   ]
  },
  {
   "cell_type": "code",
   "execution_count": 8,
   "metadata": {},
   "outputs": [
    {
     "name": "stdout",
     "output_type": "stream",
     "text": [
      "The publishing year of Bumble was probably 2015\n"
     ]
    }
   ],
   "source": [
    "uniqueValues = df_bumble['Year'].unique()\n",
    "publishingYear = min(uniqueValues)\n",
    "print('The publishing year of Bumble was probably '+str(publishingYear) )"
   ]
  },
  {
   "cell_type": "markdown",
   "metadata": {},
   "source": [
    "#### Estimate the genders of people who rated Bumble 1 out of 5  in 2015"
   ]
  },
  {
   "cell_type": "code",
   "execution_count": null,
   "metadata": {},
   "outputs": [],
   "source": [
    "# first lets find out the names of the people who rated 1 \n",
    "# than lets try estimate the gender by using gender guesser library"
   ]
  },
  {
   "cell_type": "code",
   "execution_count": 9,
   "metadata": {},
   "outputs": [
    {
     "name": "stdout",
     "output_type": "stream",
     "text": [
      "['male', 'male', 'unknown', 'male', 'male', 'male', 'unknown', 'female', 'unknown', 'mostly_female', 'unknown', 'male', 'male', 'female', 'female', 'male', 'unknown', 'male', 'female', 'male', 'unknown', 'female', 'female', 'female', 'male', 'male', 'unknown', 'male', 'unknown', 'male', 'male', 'unknown', 'male', 'male', 'male', 'male', 'male', 'male', 'male', 'male', 'male', 'female', 'unknown', 'female', 'unknown', 'female', 'male', 'unknown', 'mostly_female', 'female', 'male', 'mostly_male', 'female', 'unknown', 'male', 'male', 'unknown', 'unknown', 'unknown', 'male', 'unknown', 'unknown', 'male', 'andy', 'male', 'male', 'male', 'male', 'male', 'male', 'unknown', 'male', 'male', 'male', 'male', 'male', 'unknown', 'female', 'male', 'male', 'unknown', 'female', 'female', 'male', 'male', 'unknown', 'male']\n"
     ]
    }
   ],
   "source": [
    "df_bumble['Year'] = df_bumble[['Year']].apply(pd.to_numeric)\n",
    "df_temp =df_bumble[df_bumble[\"Year\"]==2015 ]\n",
    "names= df_temp[df_temp['Rating'] == 1]['Name']\n",
    "gender =[]\n",
    "detector = gd.Detector(case_sensitive=False)\n",
    "for name in names :\n",
    "     firstName=name.rpartition(' ')[0]\n",
    "     gender.append(detector.get_gender(name=firstName))\n",
    "print (gender)\n",
    "\n"
   ]
  },
  {
   "cell_type": "code",
   "execution_count": null,
   "metadata": {},
   "outputs": [],
   "source": [
    "#lets put them in  a new dataframe"
   ]
  },
  {
   "cell_type": "code",
   "execution_count": 10,
   "metadata": {},
   "outputs": [
    {
     "data": {
      "text/html": [
       "<div>\n",
       "<style scoped>\n",
       "    .dataframe tbody tr th:only-of-type {\n",
       "        vertical-align: middle;\n",
       "    }\n",
       "\n",
       "    .dataframe tbody tr th {\n",
       "        vertical-align: top;\n",
       "    }\n",
       "\n",
       "    .dataframe thead th {\n",
       "        text-align: right;\n",
       "    }\n",
       "</style>\n",
       "<table border=\"1\" class=\"dataframe\">\n",
       "  <thead>\n",
       "    <tr style=\"text-align: right;\">\n",
       "      <th></th>\n",
       "      <th>Name</th>\n",
       "      <th>Gender</th>\n",
       "    </tr>\n",
       "  </thead>\n",
       "  <tbody>\n",
       "    <tr>\n",
       "      <th>628832</th>\n",
       "      <td>Evan Michelson</td>\n",
       "      <td>male</td>\n",
       "    </tr>\n",
       "    <tr>\n",
       "      <th>628833</th>\n",
       "      <td>Zak Klemarow</td>\n",
       "      <td>male</td>\n",
       "    </tr>\n",
       "    <tr>\n",
       "      <th>628835</th>\n",
       "      <td>A Google user</td>\n",
       "      <td>unknown</td>\n",
       "    </tr>\n",
       "    <tr>\n",
       "      <th>628836</th>\n",
       "      <td>Adam McVicar</td>\n",
       "      <td>male</td>\n",
       "    </tr>\n",
       "    <tr>\n",
       "      <th>628837</th>\n",
       "      <td>Scott Warren</td>\n",
       "      <td>male</td>\n",
       "    </tr>\n",
       "  </tbody>\n",
       "</table>\n",
       "</div>"
      ],
      "text/plain": [
       "                  Name   Gender\n",
       "628832  Evan Michelson     male\n",
       "628833    Zak Klemarow     male\n",
       "628835   A Google user  unknown\n",
       "628836    Adam McVicar     male\n",
       "628837    Scott Warren     male"
      ]
     },
     "execution_count": 10,
     "metadata": {},
     "output_type": "execute_result"
    }
   ],
   "source": [
    "ratedOne= pd.DataFrame(columns=['Name', 'Gender'])\n",
    "ratedOne= ratedOne.assign(Name= names)\n",
    "ratedOne= ratedOne.assign(Gender= gender)\n",
    "ratedOne.head()"
   ]
  },
  {
   "cell_type": "code",
   "execution_count": null,
   "metadata": {},
   "outputs": [],
   "source": [
    "#clear data  (some genders are unknown) or not precise estimations"
   ]
  },
  {
   "cell_type": "code",
   "execution_count": 11,
   "metadata": {},
   "outputs": [
    {
     "data": {
      "text/html": [
       "<div>\n",
       "<style scoped>\n",
       "    .dataframe tbody tr th:only-of-type {\n",
       "        vertical-align: middle;\n",
       "    }\n",
       "\n",
       "    .dataframe tbody tr th {\n",
       "        vertical-align: top;\n",
       "    }\n",
       "\n",
       "    .dataframe thead th {\n",
       "        text-align: right;\n",
       "    }\n",
       "</style>\n",
       "<table border=\"1\" class=\"dataframe\">\n",
       "  <thead>\n",
       "    <tr style=\"text-align: right;\">\n",
       "      <th></th>\n",
       "      <th>Name</th>\n",
       "      <th>Gender</th>\n",
       "    </tr>\n",
       "  </thead>\n",
       "  <tbody>\n",
       "    <tr>\n",
       "      <th>628832</th>\n",
       "      <td>Evan Michelson</td>\n",
       "      <td>male</td>\n",
       "    </tr>\n",
       "    <tr>\n",
       "      <th>628833</th>\n",
       "      <td>Zak Klemarow</td>\n",
       "      <td>male</td>\n",
       "    </tr>\n",
       "    <tr>\n",
       "      <th>628836</th>\n",
       "      <td>Adam McVicar</td>\n",
       "      <td>male</td>\n",
       "    </tr>\n",
       "    <tr>\n",
       "      <th>628837</th>\n",
       "      <td>Scott Warren</td>\n",
       "      <td>male</td>\n",
       "    </tr>\n",
       "    <tr>\n",
       "      <th>628838</th>\n",
       "      <td>Florian Grohmann</td>\n",
       "      <td>male</td>\n",
       "    </tr>\n",
       "  </tbody>\n",
       "</table>\n",
       "</div>"
      ],
      "text/plain": [
       "                    Name Gender\n",
       "628832    Evan Michelson   male\n",
       "628833      Zak Klemarow   male\n",
       "628836      Adam McVicar   male\n",
       "628837      Scott Warren   male\n",
       "628838  Florian Grohmann   male"
      ]
     },
     "execution_count": 11,
     "metadata": {},
     "output_type": "execute_result"
    }
   ],
   "source": [
    "ratedOne.drop(ratedOne[ratedOne['Gender'] == \"unknown\"].index, inplace = True)\n",
    "ratedOne[ratedOne[\"Gender\"].str.contains(\"mostly\")==False]\n",
    "ratedOne.head()"
   ]
  },
  {
   "cell_type": "code",
   "execution_count": null,
   "metadata": {},
   "outputs": [],
   "source": [
    "#lets find percentages of male and female "
   ]
  },
  {
   "cell_type": "code",
   "execution_count": 12,
   "metadata": {},
   "outputs": [
    {
     "name": "stdout",
     "output_type": "stream",
     "text": [
      "In 2015 the 75.41% of the users that rated Bumble 1 was male\n",
      "In 2015 the 24.59% of the users that rated Bumble 1 was female\n"
     ]
    }
   ],
   "source": [
    "countMale= ratedOne[ratedOne['Gender'] == 'male' ]['Name'].count()\n",
    "countFemale= ratedOne[ratedOne['Gender'] == 'female' ]['Name'].count()\n",
    "total= countMale+countFemale\n",
    "percentageMale= (100*countMale /total)\n",
    "percentageMale= round(percentageMale,2)\n",
    "percentageFemale= (100-percentageMale)\n",
    "percentageFemale= round(percentageFemale,2)\n",
    "\n",
    "print(\"In 2015 the \"+str(percentageMale)+\"% of the users that rated Bumble 1 was male\")\n",
    "print(\"In 2015 the \"+str(percentageFemale)+\"% of the users that rated Bumble 1 was female\")"
   ]
  },
  {
   "cell_type": "code",
   "execution_count": null,
   "metadata": {},
   "outputs": [],
   "source": [
    "#lets find percentages of male and female using matplotlib and display it as a piechart"
   ]
  },
  {
   "cell_type": "code",
   "execution_count": 13,
   "metadata": {},
   "outputs": [
    {
     "data": {
      "image/png": "[encoded data removed]",
      "text/plain": [
       "<Figure size 432x288 with 1 Axes>"
      ]
     },
     "metadata": {},
     "output_type": "display_data"
    }
   ],
   "source": [
    "Gender =['Male','Female']\n",
    "Percent = [countMale,countFemale]\n",
    "explode=[0.0,0.1]\n",
    "plt.pie(Percent,explode=explode,labels=Gender, autopct='%1.2f')\n",
    "plt.title('Gender distribution of people who rated Bumble 1 out of 5' )\n",
    "plt.show()"
   ]
  },
  {
   "cell_type": "code",
   "execution_count": null,
   "metadata": {},
   "outputs": [],
   "source": [
    "#compare comment count of different apps over years"
   ]
  },
  {
   "cell_type": "code",
   "execution_count": null,
   "metadata": {},
   "outputs": [],
   "source": [
    "# first create a new dataframe for Hinge "
   ]
  },
  {
   "cell_type": "code",
   "execution_count": 14,
   "metadata": {},
   "outputs": [
    {
     "data": {
      "text/html": [
       "<div>\n",
       "<style scoped>\n",
       "    .dataframe tbody tr th:only-of-type {\n",
       "        vertical-align: middle;\n",
       "    }\n",
       "\n",
       "    .dataframe tbody tr th {\n",
       "        vertical-align: top;\n",
       "    }\n",
       "\n",
       "    .dataframe thead th {\n",
       "        text-align: right;\n",
       "    }\n",
       "</style>\n",
       "<table border=\"1\" class=\"dataframe\">\n",
       "  <thead>\n",
       "    <tr style=\"text-align: right;\">\n",
       "      <th></th>\n",
       "      <th>Name</th>\n",
       "      <th>Review</th>\n",
       "      <th>Rating</th>\n",
       "      <th>Date&amp;Time</th>\n",
       "      <th>App</th>\n",
       "      <th>Year</th>\n",
       "    </tr>\n",
       "  </thead>\n",
       "  <tbody>\n",
       "    <tr>\n",
       "      <th>629000</th>\n",
       "      <td>Ana Lilia Montoya</td>\n",
       "      <td>Perfect</td>\n",
       "      <td>5</td>\n",
       "      <td>18-02-2022 00:42</td>\n",
       "      <td>Hinge</td>\n",
       "      <td>2022</td>\n",
       "    </tr>\n",
       "    <tr>\n",
       "      <th>629001</th>\n",
       "      <td>Chaddy B</td>\n",
       "      <td>There may have been truth to Hinge's claims th...</td>\n",
       "      <td>2</td>\n",
       "      <td>18-02-2022 00:26</td>\n",
       "      <td>Hinge</td>\n",
       "      <td>2022</td>\n",
       "    </tr>\n",
       "    <tr>\n",
       "      <th>629002</th>\n",
       "      <td>Daniel S.</td>\n",
       "      <td>Found someone... And isn't that all that counts?</td>\n",
       "      <td>5</td>\n",
       "      <td>17-02-2022 23:51</td>\n",
       "      <td>Hinge</td>\n",
       "      <td>2022</td>\n",
       "    </tr>\n",
       "    <tr>\n",
       "      <th>629003</th>\n",
       "      <td>Joe Johnson</td>\n",
       "      <td>This app is horribly messed up!! They take the...</td>\n",
       "      <td>1</td>\n",
       "      <td>17-02-2022 23:32</td>\n",
       "      <td>Hinge</td>\n",
       "      <td>2022</td>\n",
       "    </tr>\n",
       "    <tr>\n",
       "      <th>629004</th>\n",
       "      <td>Pat Gunter</td>\n",
       "      <td>!Needs a darkmode! SO white. It flashes a scre...</td>\n",
       "      <td>4</td>\n",
       "      <td>17-02-2022 23:14</td>\n",
       "      <td>Hinge</td>\n",
       "      <td>2022</td>\n",
       "    </tr>\n",
       "  </tbody>\n",
       "</table>\n",
       "</div>"
      ],
      "text/plain": [
       "                     Name                                             Review  \\\n",
       "629000  Ana Lilia Montoya                                            Perfect   \n",
       "629001           Chaddy B  There may have been truth to Hinge's claims th...   \n",
       "629002          Daniel S.   Found someone... And isn't that all that counts?   \n",
       "629003        Joe Johnson  This app is horribly messed up!! They take the...   \n",
       "629004         Pat Gunter  !Needs a darkmode! SO white. It flashes a scre...   \n",
       "\n",
       "        Rating         Date&Time    App  Year  \n",
       "629000       5  18-02-2022 00:42  Hinge  2022  \n",
       "629001       2  18-02-2022 00:26  Hinge  2022  \n",
       "629002       5  17-02-2022 23:51  Hinge  2022  \n",
       "629003       1  17-02-2022 23:32  Hinge  2022  \n",
       "629004       4  17-02-2022 23:14  Hinge  2022  "
      ]
     },
     "execution_count": 14,
     "metadata": {},
     "output_type": "execute_result"
    }
   ],
   "source": [
    "df_hinge =Dataframe[Dataframe[\"App\"]== \"Hinge\"] \n",
    "tempDate = df_hinge['Date&Time']\n",
    "Year=tempDate.str[6:10]\n",
    "df_hinge = df_hinge.assign(Year = Year)\n",
    "df_hinge['Year'] = df_hinge[['Year']].apply(pd.to_numeric)\n",
    "df_hinge.head()\n",
    "\n"
   ]
  },
  {
   "cell_type": "code",
   "execution_count": null,
   "metadata": {},
   "outputs": [],
   "source": [
    "# now create the dataframe to be displayed"
   ]
  },
  {
   "cell_type": "code",
   "execution_count": 15,
   "metadata": {},
   "outputs": [
    {
     "data": {
      "text/html": [
       "<div>\n",
       "<style scoped>\n",
       "    .dataframe tbody tr th:only-of-type {\n",
       "        vertical-align: middle;\n",
       "    }\n",
       "\n",
       "    .dataframe tbody tr th {\n",
       "        vertical-align: top;\n",
       "    }\n",
       "\n",
       "    .dataframe thead th {\n",
       "        text-align: right;\n",
       "    }\n",
       "</style>\n",
       "<table border=\"1\" class=\"dataframe\">\n",
       "  <thead>\n",
       "    <tr style=\"text-align: right;\">\n",
       "      <th></th>\n",
       "      <th>App</th>\n",
       "      <th>Year</th>\n",
       "      <th>comment_count</th>\n",
       "      <th>Rating</th>\n",
       "    </tr>\n",
       "  </thead>\n",
       "  <tbody>\n",
       "    <tr>\n",
       "      <th>0</th>\n",
       "      <td>Tinder</td>\n",
       "      <td>2021</td>\n",
       "      <td>62583</td>\n",
       "      <td>2.396389</td>\n",
       "    </tr>\n",
       "    <tr>\n",
       "      <th>1</th>\n",
       "      <td>Tinder</td>\n",
       "      <td>2020</td>\n",
       "      <td>69230</td>\n",
       "      <td>2.670812</td>\n",
       "    </tr>\n",
       "    <tr>\n",
       "      <th>2</th>\n",
       "      <td>Tinder</td>\n",
       "      <td>2019</td>\n",
       "      <td>87438</td>\n",
       "      <td>3.151044</td>\n",
       "    </tr>\n",
       "    <tr>\n",
       "      <th>3</th>\n",
       "      <td>Tinder</td>\n",
       "      <td>2018</td>\n",
       "      <td>69639</td>\n",
       "      <td>3.380821</td>\n",
       "    </tr>\n",
       "    <tr>\n",
       "      <th>4</th>\n",
       "      <td>Tinder</td>\n",
       "      <td>2017</td>\n",
       "      <td>64409</td>\n",
       "      <td>3.265537</td>\n",
       "    </tr>\n",
       "  </tbody>\n",
       "</table>\n",
       "</div>"
      ],
      "text/plain": [
       "      App  Year comment_count    Rating\n",
       "0  Tinder  2021         62583  2.396389\n",
       "1  Tinder  2020         69230  2.670812\n",
       "2  Tinder  2019         87438  3.151044\n",
       "3  Tinder  2018         69639  3.380821\n",
       "4  Tinder  2017         64409  3.265537"
      ]
     },
     "execution_count": 15,
     "metadata": {},
     "output_type": "execute_result"
    }
   ],
   "source": [
    "df = pd.DataFrame(columns=['App','Year','comment_count','Rating'])\n",
    "uniqueValues = df_tinder['Year'].unique()\n",
    "uniqueValues = np.delete(uniqueValues , np.where(uniqueValues  == 2022))\n",
    "for value in uniqueValues:\n",
    "    count= df_tinder[df_tinder['Year'] ==value]['Name'].count()\n",
    "    df_temp1 =df_tinder[df_tinder[\"Year\"]==value]\n",
    "    rating =df_temp1['Rating'].mean()\n",
    "    df2 = {'App': 'Tinder', 'Year': value, 'comment_count': count, 'Rating':rating}\n",
    "    df= df.append(df2, ignore_index = True)\n",
    "uniqueValues = df_bumble['Year'].unique()\n",
    "uniqueValues = np.delete(uniqueValues , np.where(uniqueValues  == 2022))\n",
    "for value in uniqueValues:\n",
    "  count= df_bumble[df_bumble['Year'] ==value]['Name'].count()\n",
    "  df_temp2 =df_bumble[df_bumble[\"Year\"]==value]\n",
    "  rating =df_temp2['Rating'].mean()\n",
    "  df2 = {'App': 'Bumble', 'Year': value, 'comment_count': count,'Rating':rating}\n",
    "  df= df.append(df2, ignore_index = True)\n",
    "uniqueValues = df_hinge['Year'].unique()\n",
    "uniqueValues = np.delete(uniqueValues, np.where(uniqueValues == 2022))\n",
    "for value in uniqueValues:\n",
    "  count= df_hinge[df_hinge['Year'] ==value]['Name'].count()\n",
    "  df_temp3 =df_hinge[df_hinge[\"Year\"]==value]\n",
    "  rating =df_temp3['Rating'].mean()\n",
    "  df2 = {'App': 'Hinge', 'Year': value, 'comment_count': count,'Rating':rating}\n",
    "  df = df.append(df2, ignore_index = True)\n",
    "\n",
    "df.head()"
   ]
  },
  {
   "cell_type": "code",
   "execution_count": 16,
   "metadata": {},
   "outputs": [
    {
     "data": {
      "image/png": "[encoded data removed]",
      "text/plain": [
       "<Figure size 432x288 with 1 Axes>"
      ]
     },
     "metadata": {},
     "output_type": "display_data"
    }
   ],
   "source": [
    "df['Year'] = df[['Year']].apply(pd.to_numeric)\n",
    "df.set_index('Year', inplace=True)\n",
    "df.groupby('App')['comment_count'].plot(legend=True)\n",
    "plt.title('App store comments dating apps received yearly')\n",
    "plt.show()\n"
   ]
  },
  {
   "cell_type": "code",
   "execution_count": null,
   "metadata": {},
   "outputs": [],
   "source": []
  },
  {
   "cell_type": "code",
   "execution_count": null,
   "metadata": {},
   "outputs": [],
   "source": [
    "# create a graph for ratings over the years"
   ]
  },
  {
   "cell_type": "code",
   "execution_count": 17,
   "metadata": {},
   "outputs": [
    {
     "data": {
      "image/png": "[encoded data removed]",
      "text/plain": [
       "<Figure size 432x288 with 1 Axes>"
      ]
     },
     "metadata": {},
     "output_type": "display_data"
    }
   ],
   "source": [
    "\n",
    "df.groupby('App')['Rating'].plot(legend=True)\n",
    "plt.title('Ratings of dating apps over the years')\n",
    "plt.show()"
   ]
  },
  {
   "cell_type": "code",
   "execution_count": null,
   "metadata": {},
   "outputs": [],
   "source": []
  }
 ],
 "metadata": {
  "kernelspec": {
   "display_name": "Python 3",
   "language": "python",
   "name": "python3"
  },
  "language_info": {
   "codemirror_mode": {
    "name": "ipython",
    "version": 3
   },
   "file_extension": ".py",
   "mimetype": "text/x-python",
   "name": "python",
   "nbconvert_exporter": "python",
   "pygments_lexer": "ipython3",
   "version": "3.6.5"
  }
 },
 "nbformat": 4,
 "nbformat_minor": 2
}
